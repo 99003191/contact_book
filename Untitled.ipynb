def primaryphone_book():
    phone_book = []
    rows = int(input("Enter intial number of contacts in contact book"))
    cols = 5
    for i in range(rows):
        temp_list = []
        for j in range(cols):
            if j == 0:
                temp_list.append(str(input("Name:")))
            if j == 1:
                temp_list.append(str(input("Address:")))
            if j == 2:
                temp_list.append(int(input("Contact Number:")))
            if j == 3:
                temp_list.append(str(input("Email:")))
            if j == 4:
                temp_list.append(str(input("(Family/Friends/Work/Others):")))
        phone_book.append(temp_list)
    return phone_book


class contact_menu:
    def add_contact(self, contbook):
        book = []
        for i in range(0, 4):
            if i == 0:
                book.append(str(input("Name:")))
            if i == 1:
                book.append(str(input("Address:")))
            if i == 2:
                book.append(int(input("Contact Number:")))
            if i == 3:
                book.append(str(input("Email:")))
            if i == 4:
                book.append(str(input("(Family/Friends/Work/Others):")))
            contbook.append(book)
            return contbook

    def display_all(self, contbook):
        if not contbook:
            print("\nContact book is empty")
        else:
            for i in range(len(contbook)):
                print(contbook[i])

    def delete_all(self, contbook):
        return contbook.clear()

    def delete(self, contbook):
        name = str(input("Enter the name of person to delete from the book:"))
        temp = 0
        for i in range(len(contbook)):
            if name == contbook[i][0]:
                temp += 1
                print("The contact details of ", contbook[i][0], "is removed")
                return contbook
        if temp == 0:
                print("Entered name is not found")
                return contbook

    def search(self, contbook):
        print("1.Name")
        print("2.Address")
        print("3.Number")
        print("4.Email")
        print("5.Category")
        opt = int(input("Enter search criteria"))
        temp = []
        if opt == 1:
            option = str(input("Enter the name"))
            for i in range(len(contbook)):
                if option == contbook[i][0]:
                    temp.append(contbook[i])
        elif opt == 2:
            option = str(input("Enter the Address"))
            for i in range(len(contbook)):
                if option == contbook[i][1]:
                    temp.append(contbook[i])
        elif opt == 3:
            option = str(input("Enter the number"))
            for i in range(len(contbook)):
                if option == contbook[i][2]:
                    temp.append(contbook[i])
        elif opt == 4:
            option = str(input("Enter the email"))
            for i in range(len(contbook)):
                if option == contbook[i][3]:
                    temp.append(contbook[i])
        elif opt == 5:
            option = str(input("Enter the category"))
            for i in range(len(contbook)):
                if option == contbook[i][4]:
                    temp.append(contbook[i])
        else:
            print("Invalid input")
        print(temp)

# Menu function


def menu():
    print("Contact Book\nChoose an option from the following list:")
    print("1.Add a new contact")
    print("2.Remove an existing contact")
    print("3.Delete all contacts")
    print("4.Search for a contact")
    print("5.Display all contact")
    print("6.Exit Contact Book")
    option = int(input("Enter an option:"))
    return option
ch = 1
contbook = []
contbook = primaryphone_book()
while ch in (1, 2, 3, 4, 5):
    ch = menu()
    if ch == 1:
        var = contact_menu()
        contbook = var.add_contact(contbook)
    if ch == 2:
        var = contact_menu()
        contbook = var.delete(contbook)
    if ch == 3:
        var = contact_menu()
        contbook = var.delete_all(contbook)
    if ch == 4:
        var = contact_menu()
        print(var.search(contbook))
    if ch == 5:
        var = contact_menu()
        var.display_all(contbook)
